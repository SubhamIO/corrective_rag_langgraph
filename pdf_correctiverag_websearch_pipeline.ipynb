{
 "cells": [
  {
   "cell_type": "markdown",
   "id": "60a39ebb",
   "metadata": {},
   "source": [
    "# CORRECTIVE RAG LINKS\n",
    "#### https://www.analyticsvidhya.com/blog/2024/02/how-to-enhance-rag-performance-with-crag/\n",
    "#### https://www.analyticsvidhya.com/blog/2024/07/building-agentic-rag-systems-with-langgraph/"
   ]
  },
  {
   "cell_type": "code",
   "execution_count": 1,
   "id": "571ec753",
   "metadata": {},
   "outputs": [
    {
     "data": {
      "text/plain": [
       "True"
      ]
     },
     "execution_count": 1,
     "metadata": {},
     "output_type": "execute_result"
    }
   ],
   "source": [
    "from langchain_community.document_loaders import PyPDFDirectoryLoader, PyPDFLoader\n",
    "from langchain_community.vectorstores import Chroma\n",
    "from langchain_groq import ChatGroq\n",
    "from langchain_huggingface import HuggingFaceEmbeddings\n",
    "from dotenv import load_dotenv\n",
    "import os\n",
    "from langchain_text_splitters import RecursiveCharacterTextSplitter\n",
    "from langchain_core.messages import HumanMessage, BaseMessage\n",
    "from langchain_core.output_parsers import StrOutputParser\n",
    "from langchain_core.prompts import PromptTemplate\n",
    "from typing import Annotated, Literal, Sequence, TypedDict\n",
    "from pydantic import BaseModel, Field\n",
    "from langgraph.graph.message import add_messages\n",
    "from langgraph.prebuilt import tools_condition\n",
    "from langgraph.checkpoint.memory import MemorySaver\n",
    "from langgraph.graph import END, START, StateGraph\n",
    "\n",
    "load_dotenv()"
   ]
  },
  {
   "cell_type": "code",
   "execution_count": 2,
   "id": "a55d3743",
   "metadata": {},
   "outputs": [],
   "source": [
    "\n",
    "import os\n",
    "TAVILY_API_KEY=os.getenv(\"TAVILY_API_KEY\")\n",
    "os.environ['TAVILY_API_KEY'] = TAVILY_API_KEY"
   ]
  },
  {
   "cell_type": "code",
   "execution_count": 3,
   "id": "bddc5331",
   "metadata": {},
   "outputs": [
    {
     "name": "stderr",
     "output_type": "stream",
     "text": [
      "/Users/subham/Desktop/GENAI/genai/crew_env/lib/python3.11/site-packages/tqdm/auto.py:21: TqdmWarning: IProgress not found. Please update jupyter and ipywidgets. See https://ipywidgets.readthedocs.io/en/stable/user_install.html\n",
      "  from .autonotebook import tqdm as notebook_tqdm\n"
     ]
    }
   ],
   "source": [
    "groq_api_key = os.getenv(\"GROQ_API_KEY\")\n",
    "os.environ[\"HF_TOKEN\"] = os.getenv(\"HF_TOKEN\")\n",
    "\n",
    "embeddings = HuggingFaceEmbeddings(model_name='all-MiniLM-L6-v2')\n",
    "model = ChatGroq(groq_api_key=groq_api_key, model=\"llama-3.1-8b-instant\", temperature=0)\n"
   ]
  },
  {
   "cell_type": "code",
   "execution_count": 4,
   "id": "93c33a9f",
   "metadata": {},
   "outputs": [],
   "source": [
    "# Load and split PDFs\n",
    "documents = []\n",
    "pdf_folder_path = \"./\"\n",
    "for file_name in os.listdir(pdf_folder_path):\n",
    "    if file_name.lower().endswith(\".pdf\"):\n",
    "        file_path = os.path.join(pdf_folder_path, file_name)\n",
    "        loader = PyPDFLoader(file_path)\n",
    "        docs = loader.load()\n",
    "        documents.extend(docs)\n",
    "\n",
    "text_splitter = RecursiveCharacterTextSplitter(chunk_size=3000, chunk_overlap=200)\n",
    "splits = text_splitter.split_documents(documents)\n",
    "\n"
   ]
  },
  {
   "cell_type": "code",
   "execution_count": null,
   "id": "baf81f75",
   "metadata": {},
   "outputs": [],
   "source": []
  },
  {
   "cell_type": "code",
   "execution_count": 12,
   "id": "863a37ce",
   "metadata": {},
   "outputs": [],
   "source": [
    "# ---------- Chroma Vector Store Setup ----------\n",
    "persist_dir = \"./chroma_db\"  # make sure this folder is writable\n",
    "\n",
    "vectorstore = Chroma.from_documents(\n",
    "    documents=splits,\n",
    "    collection_name=\"rag-chroma\",\n",
    "    embedding=embeddings,\n",
    "    collection_metadata={\"hnsw:space\": \"cosine\"},\n",
    "    persist_directory=persist_dir\n",
    ")\n",
    "\n",
    "retriever = vectorstore.as_retriever(search_type=\"similarity_score_threshold\",\n",
    "                       search_kwargs={\"k\": 3,                                                                       \n",
    "                       \"score_threshold\": 0.3})\n"
   ]
  },
  {
   "cell_type": "markdown",
   "id": "657052fb",
   "metadata": {},
   "source": [
    "## Create a Query Retrieval Grader\n",
    "- Here, we will use an LLM itself to grade if any retrieved document is relevant to the given question – The answer will be either yes or no. The LLM, in our case, will be GPT-4o."
   ]
  },
  {
   "cell_type": "code",
   "execution_count": 34,
   "id": "cdfc3e25",
   "metadata": {},
   "outputs": [],
   "source": [
    "from langchain_core.prompts import ChatPromptTemplate\n",
    "from pydantic import BaseModel, Field\n",
    "# Data model for LLM output format\n",
    "class GradeDocuments(BaseModel):\n",
    "    \"\"\"Binary score for relevance check on retrieved documents.\"\"\"\n",
    "    binary_score: str = Field(description=\"Documents are relevant to the question, 'yes' or 'no'\")\n",
    "    \n",
    "# LLM for grading\n",
    "structured_llm_grader = model.with_structured_output(GradeDocuments)\n",
    "# Prompt template for grading\n",
    "SYS_PROMPT = \"\"\"You are an expert grader assessing relevance of a retrieved document to a user question.\n",
    "                Follow these instructions for grading:\n",
    "                  - If the document contains keyword(s) or semantic meaning related to the question, grade it as relevant.\n",
    "                  - Your grade should be either 'yes' or 'no' to indicate whether the document is relevant to the question or not.\"\"\"\n",
    "\n",
    "grade_prompt = ChatPromptTemplate.from_messages(\n",
    "    [\n",
    "        (\"system\", SYS_PROMPT),\n",
    "        (\"human\", \"\"\"Retrieved document:\n",
    "                     {document}\n",
    "                     User question:\n",
    "                     {question}\n",
    "                  \"\"\"),\n",
    "    ]\n",
    ")\n",
    "# Build grader chain\n",
    "doc_grader = (grade_prompt\n",
    "                  |\n",
    "              structured_llm_grader)"
   ]
  },
  {
   "cell_type": "markdown",
   "id": "7be39647",
   "metadata": {},
   "source": [
    "## Build a QA RAG Chain\n",
    "- Here, we will connect our retriever to an LLM, GPT-4o, in our case, and build our Question-answering RAG chain. Remember, this will be our traditional RAG system, which we will integrate with an AI Agent later."
   ]
  },
  {
   "cell_type": "code",
   "execution_count": 35,
   "id": "15b04cb6",
   "metadata": {},
   "outputs": [],
   "source": [
    "from langchain_core.prompts import ChatPromptTemplate\n",
    "from langchain_core.runnables import RunnablePassthrough, RunnableLambda\n",
    "from langchain_core.output_parsers import StrOutputParser\n",
    "from operator import itemgetter\n",
    "# Create RAG prompt for response generation\n",
    "prompt = \"\"\"You are an assistant for question-answering tasks.\n",
    "            Use the following pieces of retrieved context to answer the question.\n",
    "            If no context is present or if you don't know the answer, just say that you don't know the answer.\n",
    "            Do not make up the answer unless it is there in the provided context.\n",
    "            Give a detailed answer and to the point answer with regard to the question.\n",
    "            Question:\n",
    "            {question}\n",
    "            Context:\n",
    "            {context}\n",
    "            Answer:\n",
    "         \"\"\"\n",
    "prompt_template = ChatPromptTemplate.from_template(prompt)\n",
    "\n",
    "# Used for separating context docs with new lines\n",
    "def format_docs(docs):\n",
    "    return \"\\n\\n\".join(doc.page_content for doc in docs)\n",
    "# create QA RAG chain\n",
    "qa_rag_chain = (\n",
    "    {\n",
    "        \"context\": (itemgetter('context')\n",
    "                        |\n",
    "                    RunnableLambda(format_docs)),\n",
    "        \"question\": itemgetter('question')\n",
    "    }\n",
    "      |\n",
    "    prompt_template\n",
    "      |\n",
    "    model\n",
    "      |\n",
    "    StrOutputParser()\n",
    ")"
   ]
  },
  {
   "cell_type": "markdown",
   "id": "e9c0f02b",
   "metadata": {},
   "source": [
    "## Create a Query Rephraser\n",
    "- We will now build a query rephraser, which will use an LLM, GPT-4o in our case, to rephrase the input user query into a better version that is optimized for web search. This will help us get better context information from the web for our query."
   ]
  },
  {
   "cell_type": "code",
   "execution_count": 36,
   "id": "8601c382",
   "metadata": {},
   "outputs": [],
   "source": [
    "# Prompt template for rewriting\n",
    "SYS_PROMPT = \"\"\"Act as a question re-writer and perform the following task:\n",
    "                 - Convert the following input question to a better version that is optimized for web search.\n",
    "                 - When re-writing, look at the input question and try to reason about the underlying semantic intent / meaning.\n",
    "             \"\"\"\n",
    "re_write_prompt = ChatPromptTemplate.from_messages(\n",
    "    [\n",
    "        (\"system\", SYS_PROMPT),\n",
    "        (\"human\", \"\"\"Here is the initial question:\n",
    "                     {question}\n",
    "                     Formulate an improved question.\n",
    "                  \"\"\",\n",
    "        ),\n",
    "    ]\n",
    ")\n",
    "\n",
    "# Create rephraser chain\n",
    "question_rewriter = (re_write_prompt\n",
    "                        |\n",
    "                       model\n",
    "                        |\n",
    "                     StrOutputParser())"
   ]
  },
  {
   "cell_type": "markdown",
   "id": "ea39237f",
   "metadata": {},
   "source": [
    "## Load Web Search Tool\n",
    "- Here, we will use the Tavily API for our web searches, so we load up a connection to this API. For our searches, we will use the top 3 search results as additional context information; however, you are free to load in more search results."
   ]
  },
  {
   "cell_type": "code",
   "execution_count": 37,
   "id": "3442e21f",
   "metadata": {},
   "outputs": [],
   "source": [
    "from langchain_community.tools.tavily_search import TavilySearchResults\n",
    "tv_search = TavilySearchResults(max_results=3, search_depth='advanced',max_tokens=10000)\n"
   ]
  },
  {
   "cell_type": "markdown",
   "id": "59ca0c4c",
   "metadata": {},
   "source": [
    "## Build Agentic RAG components\n",
    "- Here, we will build the key components of our Agentic Corrective RAG System as per the workflow we discussed earlier in our guide. These functions will be put into relevant agent nodes via LangGraph later on when we build our agent."
   ]
  },
  {
   "cell_type": "markdown",
   "id": "a6b84ae8",
   "metadata": {},
   "source": [
    "### Graph State\n",
    "- This is used to store and represent the state of the agent graph as we traverse through various nodes. It will store and keep track of the user query, a flag variable telling us if a web search is needed, a list of context documents (retrieved from the vector database and \\ or web search), and the LLM-generated response."
   ]
  },
  {
   "cell_type": "code",
   "execution_count": 38,
   "id": "e1e18a5b",
   "metadata": {},
   "outputs": [],
   "source": [
    "from typing import List\n",
    "from typing_extensions import TypedDict\n",
    "class GraphState(TypedDict):\n",
    "    \"\"\"\n",
    "    Represents the state of our graph.\n",
    "    Attributes:\n",
    "        question: question\n",
    "        generation: LLM response generation\n",
    "        web_search_needed: flag of whether to add web search - yes or no\n",
    "        documents: list of context documents\n",
    "    \"\"\"\n",
    "    question: str\n",
    "    generation: str\n",
    "    web_search_needed: str\n",
    "    documents: List[str]"
   ]
  },
  {
   "cell_type": "markdown",
   "id": "816bca74",
   "metadata": {},
   "source": [
    "### Retrieve function for retrieval from Vector DB\n",
    "- This will be used to get relevant context documents from the vector database using our retriever, which we built earlier. Remember, as this will be a node in the agent graph, later on, we will be getting the user question from the graph state and then pass it to our retriever to get relevant context documents from the vector database."
   ]
  },
  {
   "cell_type": "code",
   "execution_count": 39,
   "id": "6c5b3f8a",
   "metadata": {},
   "outputs": [],
   "source": [
    "def retrieve(state):\n",
    "    \"\"\"\n",
    "    Retrieve documents\n",
    "    Args:\n",
    "        state (dict): The current graph state\n",
    "    Returns:\n",
    "        state (dict): New key added to state, documents - that contains retrieved context documents\n",
    "    \"\"\"\n",
    "    print(\"---RETRIEVAL FROM VECTOR DB---\")\n",
    "    question = state[\"question\"]\n",
    "    # Retrieval\n",
    "    documents = retriever.invoke(question)\n",
    "    return {\"documents\": documents, \"question\": question}"
   ]
  },
  {
   "cell_type": "markdown",
   "id": "b1529daf",
   "metadata": {},
   "source": [
    "### Grade documents\n",
    "- This will be used to determine whether the retrieved documents are relevant to the question using an LLM Grader. It sets the web_search_needed flag as Yes if at least one document is not contextually relevant OR no context documents were retrieved. Otherwise, it sets the flag as No if all documents are contextually relevant to the given user query. It updates the state graph by ensuring context documents consist of only relevant documents."
   ]
  },
  {
   "cell_type": "code",
   "execution_count": 40,
   "id": "e9bbf4a5",
   "metadata": {},
   "outputs": [],
   "source": [
    "def grade_documents(state):\n",
    "    \"\"\"\n",
    "    Determines whether the retrieved documents are relevant to the question\n",
    "    by using an LLM Grader.\n",
    "    If any document are not relevant to question or documents are empty - Web Search needs to be done\n",
    "    If all documents are relevant to question - Web Search is not needed\n",
    "    Helps filtering out irrelevant documents\n",
    "    Args:\n",
    "        state (dict): The current graph state\n",
    "    Returns:\n",
    "        state (dict): Updates documents key with only filtered relevant documents\n",
    "    \"\"\"\n",
    "    print(\"---CHECK DOCUMENT RELEVANCE TO QUESTION---\")\n",
    "    question = state[\"question\"]\n",
    "    documents = state[\"documents\"]\n",
    "    # Score each doc\n",
    "    filtered_docs = []\n",
    "    web_search_needed = \"No\"\n",
    "    if documents:\n",
    "        for d in documents:\n",
    "            score = doc_grader.invoke(\n",
    "                {\"question\": question, \"document\": d.page_content}\n",
    "            )\n",
    "            grade = score.binary_score\n",
    "            if grade == \"yes\":\n",
    "                print(\"---GRADE: DOCUMENT RELEVANT---\")\n",
    "                filtered_docs.append(d)\n",
    "            else:\n",
    "                print(\"---GRADE: DOCUMENT NOT RELEVANT---\")\n",
    "                web_search_needed = \"Yes\"\n",
    "                continue\n",
    "    else:\n",
    "        print(\"---NO DOCUMENTS RETRIEVED---\")\n",
    "        web_search_needed = \"Yes\"\n",
    "    return {\"documents\": filtered_docs, \"question\": question, \n",
    "            \"web_search_needed\": web_search_needed}"
   ]
  },
  {
   "cell_type": "markdown",
   "id": "48f80b62",
   "metadata": {},
   "source": [
    "### Rewrite query\n",
    "- This will be used to rewrite the input query to produce a better question optimized for web search using an LLM, this will also update the query in the state graph so it can be accessed by other nodes in our agent graph which we will be creating shortly."
   ]
  },
  {
   "cell_type": "code",
   "execution_count": 41,
   "id": "44f1ad43",
   "metadata": {},
   "outputs": [],
   "source": [
    "def rewrite_query(state):\n",
    "    \"\"\"\n",
    "    Rewrite the query to produce a better question.\n",
    "    Args:\n",
    "        state (dict): The current graph state\n",
    "    Returns:\n",
    "        state (dict): Updates question key with a re-phrased or re-written question\n",
    "    \"\"\"\n",
    "    print(\"---REWRITE QUERY---\")\n",
    "    question = state[\"question\"]\n",
    "    documents = state[\"documents\"]\n",
    "    # Re-write question\n",
    "    better_question = question_rewriter.invoke({\"question\": question})\n",
    "    return {\"documents\": documents, \"question\": better_question}"
   ]
  },
  {
   "cell_type": "markdown",
   "id": "7def3eea",
   "metadata": {},
   "source": [
    "### Web Search\n",
    "- This will be used to search the web using the web search tool for the given query and retrieve some information from the web, which can be used as additional context documents in our RAG system. We will use the Tavily Search API tool in our system, as discussed earlier. This function also updates the state graph, especially the list of context documents, with new documents retrieved from the web for the rephrased user query."
   ]
  },
  {
   "cell_type": "code",
   "execution_count": 42,
   "id": "40063e90",
   "metadata": {},
   "outputs": [],
   "source": [
    "from langchain.schema import Document\n",
    "def web_search(state):\n",
    "    \"\"\"\n",
    "    Web search based on the re-written question.\n",
    "    Args:\n",
    "        state (dict): The current graph state\n",
    "    Returns:\n",
    "        state (dict): Updates documents key with appended web results\n",
    "    \"\"\"\n",
    "    print(\"---WEB SEARCH---\")\n",
    "    question = state[\"question\"]\n",
    "    documents = state[\"documents\"]\n",
    "    # Web search\n",
    "    docs = tv_search.invoke(question)\n",
    "    web_results = \"\\n\\n\".join([d[\"content\"] for d in docs])\n",
    "    web_results = Document(page_content=web_results)\n",
    "    documents.append(web_results)\n",
    "    return {\"documents\": documents, \"question\": question}"
   ]
  },
  {
   "cell_type": "markdown",
   "id": "751f83d2",
   "metadata": {},
   "source": [
    "### Generate Answer\n",
    "- This is the standard LLM response generation function from query and context documents in an RAG system. We also update the generation field in the state graph so we can access it anytime in our agent graph and output the response to the user as needed."
   ]
  },
  {
   "cell_type": "code",
   "execution_count": 43,
   "id": "55238d85",
   "metadata": {},
   "outputs": [],
   "source": [
    "def generate_answer(state):\n",
    "    \"\"\"\n",
    "    Generate answer from context document using LLM\n",
    "    Args:\n",
    "        state (dict): The current graph state\n",
    "    Returns:\n",
    "        state (dict): New key added to state, generation, that contains LLM generation\n",
    "    \"\"\"\n",
    "    print(\"---GENERATE ANSWER---\")\n",
    "    question = state[\"question\"]\n",
    "    documents = state[\"documents\"]\n",
    "    # RAG generation\n",
    "    generation = qa_rag_chain.invoke({\"context\": documents, \"question\": question})\n",
    "    return {\"documents\": documents, \"question\": question, \n",
    "            \"generation\": generation}"
   ]
  },
  {
   "cell_type": "markdown",
   "id": "45536e42",
   "metadata": {},
   "source": [
    "### Decide to Generate\n",
    "- This will use this as a conditional function to check the web_search_needed flag from the agent graph state and decide whether to generate a web search or a response. It will return the function name to call. If a web search is necessary, the system returns the rewrite_query string, prompting our agentic RAG system to follow the flow of query rephrasing, search, and response generation. If a web search is unnecessary, the function will return the generate_answer string, enabling our RAG system to go into the regular flow of generating a response from the given context documents and query. You will use this function in the conditional node of our agent graph to route the flow to the correct function based on the two possible pathways."
   ]
  },
  {
   "cell_type": "code",
   "execution_count": 44,
   "id": "a128165d",
   "metadata": {},
   "outputs": [],
   "source": [
    "def decide_to_generate(state):\n",
    "    \"\"\"\n",
    "    Determines whether to generate an answer, or re-generate a question.\n",
    "    Args:\n",
    "        state (dict): The current graph state\n",
    "    Returns:\n",
    "        str: Binary decision for next node to call\n",
    "    \"\"\"\n",
    "    print(\"---ASSESS GRADED DOCUMENTS---\")\n",
    "    web_search_needed = state[\"web_search_needed\"]\n",
    "    if web_search_needed == \"Yes\":\n",
    "        # All documents have been filtered check_relevance\n",
    "        # We will re-generate a new query\n",
    "        print(\"---DECISION: SOME or ALL DOCUMENTS ARE NOT RELEVANT TO QUESTION, REWRITE QUERY---\")\n",
    "        return \"rewrite_query\"\n",
    "    else:\n",
    "        # We have relevant documents, so generate answer\n",
    "        print(\"---DECISION: GENERATE RESPONSE---\")\n",
    "        return \"generate_answer\""
   ]
  },
  {
   "cell_type": "markdown",
   "id": "1ff2ce19",
   "metadata": {},
   "source": [
    "### Build the Agent Graph with LangGraph\n",
    "- Here, we will use LangGraph and build the agent as a graph using the functions we implemented in the previous section, put them in relevant nodes as per our Agentic RAG system architecture, and connect them with relevant edges as per the defined workflows"
   ]
  },
  {
   "cell_type": "code",
   "execution_count": 49,
   "id": "0c627693",
   "metadata": {},
   "outputs": [],
   "source": [
    "from langgraph.graph import END, StateGraph\n",
    "from langgraph.checkpoint.memory import MemorySaver\n",
    "\n",
    "memory = MemorySaver()\n",
    "agentic_rag = StateGraph(GraphState)\n",
    "# Define the nodes\n",
    "agentic_rag.add_node(\"retrieve\", retrieve)  # retrieve\n",
    "agentic_rag.add_node(\"grade_documents\", grade_documents)  # grade documents\n",
    "agentic_rag.add_node(\"rewrite_query\", rewrite_query)  # transform_query\n",
    "agentic_rag.add_node(\"web_search\", web_search)  # web search\n",
    "agentic_rag.add_node(\"generate_answer\", generate_answer)  # generate answer\n",
    "# Build graph\n",
    "agentic_rag.set_entry_point(\"retrieve\")\n",
    "agentic_rag.add_edge(\"retrieve\", \"grade_documents\")\n",
    "agentic_rag.add_conditional_edges(\n",
    "    \"grade_documents\",\n",
    "    decide_to_generate,\n",
    "    {\"rewrite_query\": \"rewrite_query\", \"generate_answer\": \"generate_answer\"},\n",
    ")\n",
    "agentic_rag.add_edge(\"rewrite_query\", \"web_search\")\n",
    "agentic_rag.add_edge(\"web_search\", \"generate_answer\")\n",
    "agentic_rag.add_edge(\"generate_answer\", END)\n",
    "# Compile\n",
    "agentic_rag = agentic_rag.compile()"
   ]
  },
  {
   "cell_type": "code",
   "execution_count": 50,
   "id": "62135c21",
   "metadata": {},
   "outputs": [
    {
     "data": {
      "image/png": "[encoded data removed]",
      "text/plain": [
       "<IPython.core.display.Image object>"
      ]
     },
     "metadata": {},
     "output_type": "display_data"
    }
   ],
   "source": [
    "from IPython.display import display, Image, Markdown\n",
    "\n",
    "\n",
    "try:\n",
    "    display(Image(agentic_rag.get_graph(xray=True).draw_mermaid_png()))\n",
    "except Exception:\n",
    "    # This requires some extra dependencies and is optional\n",
    "    pass"
   ]
  },
  {
   "cell_type": "code",
   "execution_count": 52,
   "id": "3a0da01c",
   "metadata": {},
   "outputs": [
    {
     "name": "stdout",
     "output_type": "stream",
     "text": [
      "---RETRIEVAL FROM VECTOR DB---\n",
      "---CHECK DOCUMENT RELEVANCE TO QUESTION---\n",
      "---GRADE: DOCUMENT RELEVANT---\n",
      "---GRADE: DOCUMENT RELEVANT---\n",
      "---GRADE: DOCUMENT RELEVANT---\n",
      "---ASSESS GRADED DOCUMENTS---\n",
      "---DECISION: GENERATE RESPONSE---\n",
      "---GENERATE ANSWER---\n"
     ]
    },
    {
     "data": {
      "text/markdown": [
       "The attention mechanism is a concept in deep learning, particularly in the context of neural networks and natural language processing. According to the provided context, the attention mechanism is illustrated in Figure 3, which shows an example of the attention mechanism following long-distance dependencies in the encoder self-attention in layer 5 of 6.\n",
       "\n",
       "In this context, the attention mechanism is used to attend to a distant dependency of the verb 'making', completing the phrase 'making...more difficult'. This suggests that the attention mechanism is used to focus on specific parts of the input sequence that are relevant to the task at hand, in this case, understanding the relationship between the verb 'making' and the phrase 'more difficult'.\n",
       "\n",
       "In general, the attention mechanism is a technique used to weigh the importance of different elements in a sequence, such as words in a sentence, and use this weighting to compute a representation of the sequence. This can be useful in a variety of tasks, including machine translation, text summarization, and question answering.\n",
       "\n",
       "In the context of the provided figures, the attention mechanism is visualized as different colors representing different heads, which suggests that the attention mechanism is composed of multiple attention heads that attend to different parts of the input sequence."
      ],
      "text/plain": [
       "<IPython.core.display.Markdown object>"
      ]
     },
     "metadata": {},
     "output_type": "display_data"
    }
   ],
   "source": [
    "query = \"What is attention mechanism?\"\n",
    "response = agentic_rag.invoke({\"question\": query})\n",
    "display(Markdown(response['generation']))\n"
   ]
  },
  {
   "cell_type": "code",
   "execution_count": 53,
   "id": "72df6d78",
   "metadata": {},
   "outputs": [
    {
     "name": "stdout",
     "output_type": "stream",
     "text": [
      "---RETRIEVAL FROM VECTOR DB---\n",
      "---CHECK DOCUMENT RELEVANCE TO QUESTION---\n",
      "---GRADE: DOCUMENT RELEVANT---\n",
      "---GRADE: DOCUMENT RELEVANT---\n",
      "---GRADE: DOCUMENT RELEVANT---\n",
      "---ASSESS GRADED DOCUMENTS---\n",
      "---DECISION: GENERATE RESPONSE---\n",
      "---GENERATE ANSWER---\n"
     ]
    },
    {
     "data": {
      "text/markdown": [
       "Retrieval-Augmented Generation (RAG) is a technique in Natural Language Processing (NLP) that combines pre-trained parametric and non-parametric memory for language generation. The parametric memory is a pre-trained sequence-to-sequence (seq2seq) model, while the non-parametric memory is a dense vector index of Wikipedia, accessed with a pre-trained neural retriever.\n",
       "\n",
       "In RAG, the model first retrieves relevant passages from the non-parametric memory (Wikipedia) using a pre-trained neural retriever. These retrieved passages are then used to augment the parametric memory (seq2seq model) for language generation. This allows the model to access and precisely manipulate knowledge from the non-parametric memory, which can be used to improve the quality and accuracy of the generated text.\n",
       "\n",
       "There are two main formulations of RAG:\n",
       "\n",
       "1. **Conditioning on retrieved passages across the whole generated sequence**: In this formulation, the model conditions on the same retrieved passages across the whole generated sequence.\n",
       "2. **Using different passages per token**: In this formulation, the model can use different passages per token, allowing for more flexibility and diversity in the generated text.\n",
       "\n",
       "RAG models have been shown to outperform parametric seq2seq models and task-specific retrieve-and-extract architectures on a wide range of knowledge-intensive NLP tasks, including open-domain QA tasks and language generation tasks. They generate more specific, diverse, and factual language than state-of-the-art parametric-only seq2seq baselines.\n",
       "\n",
       "Overall, RAG is a powerful technique for addressing the limitations of pre-trained language models, such as their inability to easily expand or revise their memory, and their tendency to produce \"hallucinations\". By combining parametric and non-parametric memory, RAG models can access and precisely manipulate knowledge from a large external memory, leading to improved performance on knowledge-intensive NLP tasks."
      ],
      "text/plain": [
       "<IPython.core.display.Markdown object>"
      ]
     },
     "metadata": {},
     "output_type": "display_data"
    }
   ],
   "source": [
    "query = \"Explain Retrieval-Augmented Generation in NLP.\"\n",
    "response = agentic_rag.invoke({\"question\": query})\n",
    "display(Markdown(response['generation']))\n"
   ]
  },
  {
   "cell_type": "code",
   "execution_count": null,
   "id": "d02ef645",
   "metadata": {},
   "outputs": [],
   "source": []
  }
 ],
 "metadata": {
  "kernelspec": {
   "display_name": "Python 3",
   "language": "python",
   "name": "python3"
  },
  "language_info": {
   "codemirror_mode": {
    "name": "ipython",
    "version": 3
   },
   "file_extension": ".py",
   "mimetype": "text/x-python",
   "name": "python",
   "nbconvert_exporter": "python",
   "pygments_lexer": "ipython3",
   "version": "3.11.8"
  }
 },
 "nbformat": 4,
 "nbformat_minor": 5
}
